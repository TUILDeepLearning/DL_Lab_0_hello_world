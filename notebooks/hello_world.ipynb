{
 "cells": [
  {
   "cell_type": "markdown",
   "id": "e2b5f915",
   "metadata": {
    "vscode": {
     "languageId": "plaintext"
    }
   },
   "source": [
    "# DL Homework 0 - _Hello World_\n",
    "\n",
    "## Task\n",
    "\n",
    "Adjust the variable `message` so that it contains the text \"hello world\".\n",
    "Then run the code cell and save your notebook."
   ]
  },
  {
   "cell_type": "code",
   "execution_count": null,
   "id": "0bc33383",
   "metadata": {},
   "outputs": [],
   "source": [
    "message = \"TODO\"  # <-- Change this line\n",
    "\n",
    "print(message)"
   ]
  }
 ],
 "metadata": {
  "language_info": {
   "name": "python"
  }
 },
 "nbformat": 4,
 "nbformat_minor": 5
}
